{
  "nbformat": 4,
  "nbformat_minor": 0,
  "metadata": {
    "colab": {
      "name": "Untitled2.ipynb",
      "provenance": [],
      "authorship_tag": "ABX9TyMdFTDgDPSAnGpBjjQBw38H",
      "include_colab_link": true
    },
    "kernelspec": {
      "name": "python3",
      "display_name": "Python 3"
    },
    "language_info": {
      "name": "python"
    }
  },
  "cells": [
    {
      "cell_type": "markdown",
      "metadata": {
        "id": "view-in-github",
        "colab_type": "text"
      },
      "source": [
        "<a href=\"https://colab.research.google.com/github/ShriShalini/Time-Series-Forecasting/blob/main/Untitled2.ipynb\" target=\"_parent\"><img src=\"https://colab.research.google.com/assets/colab-badge.svg\" alt=\"Open In Colab\"/></a>"
      ]
    },
    {
      "cell_type": "markdown",
      "source": [
        "I solved exercise 23 using two ways.\n",
        "\n",
        "Method 1) By using HOrvitz Thompson estimate (unbiased estimator) for calculating standard error (as standard error is the square of variance estimate from an unbiased estimator). \n",
        "\n",
        "\n",
        "Method 2) Using the formula, std_error = (N^2*(1/n-1/N)*var(y))^^1/2"
      ],
      "metadata": {
        "id": "Nk381KrEBRQB"
      }
    },
    {
      "cell_type": "markdown",
      "source": [
        "# Horvitz Thompson unbiased variance estimation"
      ],
      "metadata": {
        "id": "rUl8mqAIB_5o"
      }
    },
    {
      "cell_type": "markdown",
      "source": [
        "# Ex:23 a) "
      ],
      "metadata": {
        "id": "8f8bhNLY7swN"
      }
    },
    {
      "cell_type": "code",
      "source": [
        "import numpy as np\n",
        "import pandas as pd\n",
        "import itertools\n",
        "\n",
        "# \n",
        "\n",
        "n=45\n",
        "N=284\n",
        "n = 45\n",
        "rng = np.random.RandomState(123)\n",
        "path = \"MU284.txt\"\n",
        "MU284 = pd.read_table(path)\n",
        "MU284 = MU284[MU284.P75 <= 27000] #1975 population and 27000 inhabitants\n",
        "MU284 = MU284.CS82\n",
        "y =  pd.Series(np.append([0],MU284.to_numpy()))\n",
        "error = []\n",
        "count = 0\n",
        "pop_tot = y.sum()\n",
        "\n",
        "#pi estimate for one sample\n",
        "for i in range(0,1): \n",
        "    \n",
        "    # selecting indices of samples\n",
        "    l2 = rng.choice(y.index, n, 'False')\n",
        "\n",
        "    # pi_estimate\n",
        "    val_array = [y[s] for s in l2]\n",
        "    pi_estimate = N*sum(val_array)/n\n",
        "    \n",
        "    # variance\n",
        "    y_hat = np.zeros((1, 285))\n",
        "    \n",
        "    for i in range(0,len(y_hat)):\n",
        "      for j in range(0,len(y_hat[0])):\n",
        "        \n",
        "        if(j in l2):\n",
        "          \n",
        "          y_hat[i][j] = y[j]/(n/N)\n",
        "\n",
        "\n",
        "    Pi_M =np.zeros((N+1,N+1)) \n",
        "    diag_val = 1-(n/N)\n",
        "    else_val = 1- ((n*(N-1))/(N*(n-1)))\n",
        "    for subset in itertools.combinations_with_replacement(l2, 2):\n",
        "        \n",
        "        i = subset[0]\n",
        "        j = subset[1]\n",
        "        if(i==j):\n",
        "          Pi_M[i][j] = diag_val\n",
        "        else:\n",
        "          Pi_M[i][j] = else_val\n",
        "          Pi_M[j][i] = else_val\n",
        "    y_hat = np.array(y_hat)\n",
        "    \n",
        "    var = np.matmul(np.matmul(y_hat,Pi_M),y_hat.T)\n",
        "    \n",
        "    #standard error\n",
        "    error.append(var[0][0]**0.5)\n",
        "\n",
        "    \n",
        "\n",
        "print('Ex 23 a) results for one sample:')\n",
        "print('pi estimate for population total', pi_estimate)\n",
        "print('Standard error',  error[0])"
      ],
      "metadata": {
        "colab": {
          "base_uri": "https://localhost:8080/"
        },
        "id": "jL5Dw3au7xz3",
        "outputId": "47d06d18-5203-4a7c-bb82-5edde8cac961"
      },
      "execution_count": 3,
      "outputs": [
        {
          "output_type": "stream",
          "name": "stdout",
          "text": [
            "Ex 23 a) results for one sample:\n",
            "pi estimate for population total 2688.5333333333333\n",
            "Standard error 207.988780021999\n"
          ]
        }
      ]
    },
    {
      "cell_type": "markdown",
      "source": [
        "# Ex 23 b) and c) for 100 samples"
      ],
      "metadata": {
        "id": "bvt6WROA8y2G"
      }
    },
    {
      "cell_type": "code",
      "execution_count": 4,
      "metadata": {
        "id": "iKQxdy9V7JuD"
      },
      "outputs": [],
      "source": [
        "import numpy as np\n",
        "import pandas as pd\n",
        "import itertools\n",
        "\n",
        "# \n",
        "\n",
        "n=45\n",
        "N=284\n",
        "n = 45\n",
        "rng = np.random.RandomState(123)\n",
        "path = \"MU284.txt\"\n",
        "MU284 = pd.read_table(path)\n",
        "MU284 = MU284[MU284.P75 <= 27000] #1975 population and 27000 inhabitants\n",
        "MU284 = MU284.CS82\n",
        "y =  pd.Series(np.append([0],MU284.to_numpy()))\n",
        "error = []\n",
        "count = 0\n",
        "pop_tot = y.sum()\n",
        "for i in range(0,100): \n",
        "    \n",
        "    \n",
        "    l2 = rng.choice(y.index, n, 'False')\n",
        "\n",
        "    # pi_estimate\n",
        "    val_array = [y[s] for s in l2]\n",
        "    pi_estimate = N*sum(val_array)/n\n",
        "    \n",
        "    y_hat = np.zeros((1, 285))\n",
        "    \n",
        "    for i in range(0,len(y_hat)):\n",
        "      for j in range(0,len(y_hat[0])):\n",
        "        \n",
        "        if(j in l2):\n",
        "          \n",
        "          y_hat[i][j] = y[j]/(n/N)\n",
        "\n",
        "\n",
        "    Pi_M =np.zeros((N+1,N+1)) \n",
        "    diag_val = 1-(n/N)\n",
        "    else_val = 1- ((n*(N-1))/(N*(n-1)))\n",
        "    for subset in itertools.combinations_with_replacement(l2, 2):\n",
        "        \n",
        "        i = subset[0]\n",
        "        j = subset[1]\n",
        "        if(i==j):\n",
        "          Pi_M[i][j] = diag_val\n",
        "        else:\n",
        "          Pi_M[i][j] = else_val\n",
        "          Pi_M[j][i] = else_val\n",
        "    y_hat = np.array(y_hat)\n",
        "    \n",
        "    var = np.matmul(np.matmul(y_hat,Pi_M),y_hat.T)\n",
        "    \n",
        "    error.append(var[0][0]**0.5)\n",
        "\n",
        "    #Ex 23 c)\n",
        "    from scipy.stats import norm\n",
        "    z=norm.ppf(q = 1 - 0.05/2)\n",
        "    lower = pi_estimate - z*var[0][0]**0.5\n",
        "    upper = pi_estimate + z*var[0][0]**0.5\n",
        "    \n",
        "    #print(pop_tot, upper, lower)\n",
        "    if(pop_tot<= upper and pop_tot>=lower):\n",
        "      count+=1"
      ]
    },
    {
      "cell_type": "code",
      "source": [
        "\n",
        "#Ex 23 c)\n",
        "print('Intervals convering parameter t')\n",
        "\n",
        "print(count, 'of 100 intervals cover parameter t')"
      ],
      "metadata": {
        "colab": {
          "base_uri": "https://localhost:8080/"
        },
        "id": "2K2ssfVp7Ng4",
        "outputId": "98c3b04a-fd3e-46e7-a3c9-a246a1150bb6"
      },
      "execution_count": 5,
      "outputs": [
        {
          "output_type": "stream",
          "name": "stdout",
          "text": [
            "Intervals convering parameter t\n",
            "95 of 100 intervals cover parameter t\n"
          ]
        }
      ]
    },
    {
      "cell_type": "code",
      "source": [
        "#Ex 23 b)\n",
        "import matplotlib.pyplot as plt\n",
        "import numpy as np\n",
        "%matplotlib inline\n",
        "plt.hist(error,density=False, bins=30)  \n",
        "plt.ylabel('Counts')\n",
        "plt.xlabel('Standard error');\n",
        "plt.title('The empirical distribution of the relative standard errors')\n",
        "print('The empirical distribution of the relative standard errors ')"
      ],
      "metadata": {
        "colab": {
          "base_uri": "https://localhost:8080/",
          "height": 312
        },
        "id": "wcJ5xGTp7Njq",
        "outputId": "265aabdd-130d-4054-a8e7-c3ce22181aa3"
      },
      "execution_count": 6,
      "outputs": [
        {
          "output_type": "stream",
          "name": "stdout",
          "text": [
            "The empirical distribution of the relative standard errors \n"
          ]
        },
        {
          "output_type": "display_data",
          "data": {
            "image/png": "[encoded data removed]",
            "text/plain": [
              "<Figure size 432x288 with 1 Axes>"
            ]
          },
          "metadata": {
            "needs_background": "light"
          }
        }
      ]
    },
    {
      "cell_type": "markdown",
      "source": [
        "# Using method 2)"
      ],
      "metadata": {
        "id": "uZYm3fB0COys"
      }
    },
    {
      "cell_type": "code",
      "source": [
        ""
      ],
      "metadata": {
        "id": "TgDtb7eA-zcJ"
      },
      "execution_count": null,
      "outputs": []
    },
    {
      "cell_type": "markdown",
      "source": [
        "# Ex 23 a) for one sample"
      ],
      "metadata": {
        "id": "mZv3zsQaCoAd"
      }
    },
    {
      "cell_type": "code",
      "source": [
        "n=45\n",
        "N=284\n",
        "n = 45\n",
        "rng = np.random.RandomState(123)\n",
        "path = \"MU284.txt\"\n",
        "MU284 = pd.read_table(path)\n",
        "MU284 = MU284[MU284.P75 <= 27000] #1975 population and 27000 inhabitants\n",
        "MU284 = MU284.CS82\n",
        "y =  pd.Series(np.append([0],MU284.to_numpy()))\n",
        "\n",
        "count_err = 0\n",
        "pop_tot = y.sum()\n",
        "std_err = []\n",
        "for i in range(0,1): \n",
        "    \n",
        "    \n",
        "    l2 = rng.choice(y.index, n, 'False')\n",
        "\n",
        "    # pi_estimate\n",
        "    val_array = [y[s] for s in l2]\n",
        "    pi_estimate = N*sum(val_array)/n\n",
        "    temp =np.array(val_array)\n",
        "    y_hat = np.zeros((1, 285))\n",
        "    std_error = ((N*N)*((1/n)-(1/N))*np.var(temp))**0.5\n",
        "    #print(std_error)\n",
        "\n",
        "    std_err.append(std_error)\n",
        "\n",
        "    #Ex 23 c)\n",
        "    from scipy.stats import norm\n",
        "    z=norm.ppf(q = 1 - 0.05/2)\n",
        "    lower = pi_estimate - z*std_error\n",
        "    upper = pi_estimate + z*std_error\n",
        "    \n",
        "    #print(pop_tot, upper, lower)\n",
        "    if(pop_tot<= upper and pop_tot>=lower):\n",
        "      count_err+=1\n",
        "\n",
        "    \n",
        "\n",
        "print('Ex 23 a) results for one sample:')\n",
        "print('pi estimate for population total', pi_estimate)\n",
        "print('Standard error',  std_error)\n",
        "    "
      ],
      "metadata": {
        "colab": {
          "base_uri": "https://localhost:8080/"
        },
        "id": "qPxLA9dc-zgE",
        "outputId": "e47baceb-be79-4015-815b-a431df7e1953"
      },
      "execution_count": 7,
      "outputs": [
        {
          "output_type": "stream",
          "name": "stdout",
          "text": [
            "Ex 23 a) results for one sample:\n",
            "pi estimate for population total 2688.5333333333333\n",
            "Standard error 181.72212568359132\n"
          ]
        }
      ]
    },
    {
      "cell_type": "markdown",
      "source": [
        "Ex 23 b) and c) 100 samples"
      ],
      "metadata": {
        "id": "rlZHakGwDNCx"
      }
    },
    {
      "cell_type": "code",
      "source": [
        "n=45\n",
        "N=284\n",
        "n = 45\n",
        "rng = np.random.RandomState(123)\n",
        "path = \"MU284.txt\"\n",
        "MU284 = pd.read_table(path)\n",
        "MU284 = MU284[MU284.P75 <= 27000] #1975 population and 27000 inhabitants\n",
        "MU284 = MU284.CS82\n",
        "y =  pd.Series(np.append([0],MU284.to_numpy()))\n",
        "\n",
        "count_err = 0\n",
        "pop_tot = y.sum()\n",
        "std_err = []\n",
        "for i in range(0,100): \n",
        "    \n",
        "    \n",
        "    l2 = rng.choice(y.index, n, 'False')\n",
        "\n",
        "    # pi_estimate\n",
        "    val_array = [y[s] for s in l2]\n",
        "    pi_estimate = N*sum(val_array)/n\n",
        "    temp =np.array(val_array)\n",
        "    y_hat = np.zeros((1, 285))\n",
        "    std_error = ((N*N)*((1/n)-(1/N))*np.var(temp))**0.5\n",
        "    #print(std_error)\n",
        "\n",
        "    std_err.append(std_error)\n",
        "\n",
        "    #Ex 23 c)\n",
        "    from scipy.stats import norm\n",
        "    z=norm.ppf(q = 1 - 0.05/2)\n",
        "    lower = pi_estimate - z*std_error\n",
        "    upper = pi_estimate + z*std_error\n",
        "    \n",
        "    \n",
        "\n",
        "    #Ex 23 c)\n",
        "    from scipy.stats import norm\n",
        "    z=norm.ppf(q = 1 - 0.05/2)\n",
        "    lower = pi_estimate - z*std_error\n",
        "    upper = pi_estimate + z*std_error\n",
        "    \n",
        "    \n",
        "\n",
        "    #print(pop_tot, upper, lower)\n",
        "    if(pop_tot<= upper and pop_tot>=lower):\n",
        "      count_err+=1\n",
        "\n",
        "\n",
        "    "
      ],
      "metadata": {
        "id": "nbl1e3oODLQu"
      },
      "execution_count": 8,
      "outputs": []
    },
    {
      "cell_type": "code",
      "source": [
        "#Ex 23 b)\n",
        "import matplotlib.pyplot as plt\n",
        "import numpy as np\n",
        "%matplotlib inline\n",
        "plt.hist(std_err,density=False, bins=30)  \n",
        "plt.ylabel('Counts')\n",
        "plt.xlabel('Standard error');\n",
        "plt.title('The empirical distribution of the relative standard errors')\n",
        "print('The empirical distribution of the relative standard errors ')"
      ],
      "metadata": {
        "colab": {
          "base_uri": "https://localhost:8080/",
          "height": 312
        },
        "id": "wkInWlG1BIW0",
        "outputId": "44271174-6212-4acd-95be-81491cc84d8e"
      },
      "execution_count": 9,
      "outputs": [
        {
          "output_type": "stream",
          "name": "stdout",
          "text": [
            "The empirical distribution of the relative standard errors \n"
          ]
        },
        {
          "output_type": "display_data",
          "data": {
            "image/png": "[encoded data removed]",
            "text/plain": [
              "<Figure size 432x288 with 1 Axes>"
            ]
          },
          "metadata": {
            "needs_background": "light"
          }
        }
      ]
    },
    {
      "cell_type": "code",
      "source": [
        "#Ex 23 c)\n",
        "print('Intervals convering parameter t')\n",
        "\n",
        "print(count_err, 'of 100 intervals cover parameter t')"
      ],
      "metadata": {
        "colab": {
          "base_uri": "https://localhost:8080/"
        },
        "id": "aEtAVSGmA_KS",
        "outputId": "3b309c5f-5e25-4ded-fcef-28e0c996d129"
      },
      "execution_count": 10,
      "outputs": [
        {
          "output_type": "stream",
          "name": "stdout",
          "text": [
            "Intervals convering parameter t\n",
            "94 of 100 intervals cover parameter t\n"
          ]
        }
      ]
    }
  ]
}