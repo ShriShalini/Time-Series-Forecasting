{
  "nbformat": 4,
  "nbformat_minor": 0,
  "metadata": {
    "colab": {
      "name": "extreme loss.ipynb",
      "provenance": [],
      "authorship_tag": "ABX9TyMWANvNfyJsDoJ3N6i04OfF",
      "include_colab_link": true
    },
    "kernelspec": {
      "name": "python3",
      "display_name": "Python 3"
    },
    "language_info": {
      "name": "python"
    }
  },
  "cells": [
    {
      "cell_type": "markdown",
      "metadata": {
        "id": "view-in-github",
        "colab_type": "text"
      },
      "source": [
        "<a href=\"https://colab.research.google.com/github/ShriShalini/Time-Series-Forecasting/blob/main/extreme_loss.ipynb\" target=\"_parent\"><img src=\"https://colab.research.google.com/assets/colab-badge.svg\" alt=\"Open In Colab\"/></a>"
      ]
    },
    {
      "cell_type": "code",
      "metadata": {
        "colab": {
          "base_uri": "https://localhost:8080/",
          "height": 1000
        },
        "id": "58l6Qs0I8RVF",
        "outputId": "8ce4ba5e-a2dc-4787-e7c8-d21181708704"
      },
      "source": [
        "! pip install darts"
      ],
      "execution_count": 1,
      "outputs": [
        {
          "output_type": "stream",
          "name": "stdout",
          "text": [
            "Collecting darts\n",
            "  Downloading darts-0.14.0-py3-none-any.whl (290 kB)\n",
            "\u001b[K     |████████████████████████████████| 290 kB 4.9 MB/s \n",
            "\u001b[?25hRequirement already satisfied: joblib>=0.16.0 in /usr/local/lib/python3.7/dist-packages (from darts) (1.1.0)\n",
            "Requirement already satisfied: xarray>=0.17.0 in /usr/local/lib/python3.7/dist-packages (from darts) (0.18.2)\n",
            "Requirement already satisfied: torch>=1.8.0 in /usr/local/lib/python3.7/dist-packages (from darts) (1.10.0+cu111)\n",
            "Requirement already satisfied: scikit-learn>=1.0.1 in /usr/local/lib/python3.7/dist-packages (from darts) (1.0.1)\n",
            "Collecting statsmodels>=0.13.0\n",
            "  Downloading statsmodels-0.13.1-cp37-cp37m-manylinux_2_17_x86_64.manylinux2014_x86_64.whl (9.8 MB)\n",
            "\u001b[K     |████████████████████████████████| 9.8 MB 37.5 MB/s \n",
            "\u001b[?25hRequirement already satisfied: pystan<3.0.0.0,>=2.19.1.1 in /usr/local/lib/python3.7/dist-packages (from darts) (2.19.1.1)\n",
            "Requirement already satisfied: tqdm>=4.60.0 in /usr/local/lib/python3.7/dist-packages (from darts) (4.62.3)\n",
            "Collecting prophet>=1.0.0\n",
            "  Downloading prophet-1.0.1.tar.gz (65 kB)\n",
            "\u001b[K     |████████████████████████████████| 65 kB 3.5 MB/s \n",
            "\u001b[?25hCollecting pmdarima>=1.8.0\n",
            "  Downloading pmdarima-1.8.4-cp37-cp37m-manylinux_2_17_x86_64.manylinux2014_x86_64.manylinux_2_24_x86_64.whl (1.4 MB)\n",
            "\u001b[K     |████████████████████████████████| 1.4 MB 34.2 MB/s \n",
            "\u001b[?25hRequirement already satisfied: tensorboard>=2.4.0 in /usr/local/lib/python3.7/dist-packages (from darts) (2.7.0)\n",
            "Requirement already satisfied: lightgbm>=2.2.3 in /usr/local/lib/python3.7/dist-packages (from darts) (2.2.3)\n",
            "Collecting filterpy>=1.4.5\n",
            "  Downloading filterpy-1.4.5.zip (177 kB)\n",
            "\u001b[K     |████████████████████████████████| 177 kB 45.9 MB/s \n",
            "\u001b[?25hRequirement already satisfied: pandas>=1.1.0 in /usr/local/lib/python3.7/dist-packages (from darts) (1.1.5)\n",
            "Requirement already satisfied: requests>=2.22.0 in /usr/local/lib/python3.7/dist-packages (from darts) (2.23.0)\n",
            "Requirement already satisfied: numpy>=1.19.0 in /usr/local/lib/python3.7/dist-packages (from darts) (1.19.5)\n",
            "Requirement already satisfied: scipy>=1.3.2 in /usr/local/lib/python3.7/dist-packages (from darts) (1.4.1)\n",
            "Collecting matplotlib>=3.3.0\n",
            "  Downloading matplotlib-3.5.0-cp37-cp37m-manylinux_2_5_x86_64.manylinux1_x86_64.whl (11.2 MB)\n",
            "\u001b[K     |████████████████████████████████| 11.2 MB 38.6 MB/s \n",
            "\u001b[?25hCollecting holidays>=0.11.1\n",
            "  Downloading holidays-0.11.3.1-py3-none-any.whl (155 kB)\n",
            "\u001b[K     |████████████████████████████████| 155 kB 61.1 MB/s \n",
            "\u001b[?25hCollecting ipython>=7.0.0\n",
            "  Downloading ipython-7.30.0-py3-none-any.whl (791 kB)\n",
            "\u001b[K     |████████████████████████████████| 791 kB 52.2 MB/s \n",
            "\u001b[?25hRequirement already satisfied: korean-lunar-calendar in /usr/local/lib/python3.7/dist-packages (from holidays>=0.11.1->darts) (0.2.1)\n",
            "Requirement already satisfied: convertdate>=2.3.0 in /usr/local/lib/python3.7/dist-packages (from holidays>=0.11.1->darts) (2.3.2)\n",
            "Requirement already satisfied: python-dateutil in /usr/local/lib/python3.7/dist-packages (from holidays>=0.11.1->darts) (2.8.2)\n",
            "Requirement already satisfied: hijri-converter in /usr/local/lib/python3.7/dist-packages (from holidays>=0.11.1->darts) (2.2.2)\n",
            "Requirement already satisfied: pymeeus<=1,>=0.3.13 in /usr/local/lib/python3.7/dist-packages (from convertdate>=2.3.0->holidays>=0.11.1->darts) (0.5.11)\n",
            "Requirement already satisfied: pytz>=2014.10 in /usr/local/lib/python3.7/dist-packages (from convertdate>=2.3.0->holidays>=0.11.1->darts) (2018.9)\n",
            "Collecting prompt-toolkit!=3.0.0,!=3.0.1,<3.1.0,>=2.0.0\n",
            "  Downloading prompt_toolkit-3.0.23-py3-none-any.whl (374 kB)\n",
            "\u001b[K     |████████████████████████████████| 374 kB 50.4 MB/s \n",
            "\u001b[?25hRequirement already satisfied: setuptools>=18.5 in /usr/local/lib/python3.7/dist-packages (from ipython>=7.0.0->darts) (57.4.0)\n",
            "Requirement already satisfied: pickleshare in /usr/local/lib/python3.7/dist-packages (from ipython>=7.0.0->darts) (0.7.5)\n",
            "Requirement already satisfied: jedi>=0.16 in /usr/local/lib/python3.7/dist-packages (from ipython>=7.0.0->darts) (0.18.1)\n",
            "Requirement already satisfied: pygments in /usr/local/lib/python3.7/dist-packages (from ipython>=7.0.0->darts) (2.6.1)\n",
            "Requirement already satisfied: backcall in /usr/local/lib/python3.7/dist-packages (from ipython>=7.0.0->darts) (0.2.0)\n",
            "Requirement already satisfied: pexpect>4.3 in /usr/local/lib/python3.7/dist-packages (from ipython>=7.0.0->darts) (4.8.0)\n",
            "Requirement already satisfied: matplotlib-inline in /usr/local/lib/python3.7/dist-packages (from ipython>=7.0.0->darts) (0.1.3)\n",
            "Requirement already satisfied: decorator in /usr/local/lib/python3.7/dist-packages (from ipython>=7.0.0->darts) (4.4.2)\n",
            "Requirement already satisfied: traitlets>=4.2 in /usr/local/lib/python3.7/dist-packages (from ipython>=7.0.0->darts) (5.1.1)\n",
            "Requirement already satisfied: parso<0.9.0,>=0.8.0 in /usr/local/lib/python3.7/dist-packages (from jedi>=0.16->ipython>=7.0.0->darts) (0.8.2)\n",
            "Requirement already satisfied: pillow>=6.2.0 in /usr/local/lib/python3.7/dist-packages (from matplotlib>=3.3.0->darts) (7.1.2)\n",
            "Requirement already satisfied: setuptools-scm>=4 in /usr/local/lib/python3.7/dist-packages (from matplotlib>=3.3.0->darts) (6.3.2)\n",
            "Requirement already satisfied: packaging>=20.0 in /usr/local/lib/python3.7/dist-packages (from matplotlib>=3.3.0->darts) (21.3)\n",
            "Requirement already satisfied: kiwisolver>=1.0.1 in /usr/local/lib/python3.7/dist-packages (from matplotlib>=3.3.0->darts) (1.3.2)\n",
            "Requirement already satisfied: pyparsing>=2.2.1 in /usr/local/lib/python3.7/dist-packages (from matplotlib>=3.3.0->darts) (3.0.6)\n",
            "Requirement already satisfied: fonttools>=4.22.0 in /usr/local/lib/python3.7/dist-packages (from matplotlib>=3.3.0->darts) (4.28.1)\n",
            "Requirement already satisfied: cycler>=0.10 in /usr/local/lib/python3.7/dist-packages (from matplotlib>=3.3.0->darts) (0.11.0)\n",
            "Requirement already satisfied: ptyprocess>=0.5 in /usr/local/lib/python3.7/dist-packages (from pexpect>4.3->ipython>=7.0.0->darts) (0.7.0)\n",
            "Requirement already satisfied: Cython!=0.29.18,>=0.29 in /usr/local/lib/python3.7/dist-packages (from pmdarima>=1.8.0->darts) (0.29.24)\n",
            "Requirement already satisfied: urllib3 in /usr/local/lib/python3.7/dist-packages (from pmdarima>=1.8.0->darts) (1.24.3)\n",
            "Requirement already satisfied: wcwidth in /usr/local/lib/python3.7/dist-packages (from prompt-toolkit!=3.0.0,!=3.0.1,<3.1.0,>=2.0.0->ipython>=7.0.0->darts) (0.2.5)\n",
            "Collecting cmdstanpy==0.9.68\n",
            "  Downloading cmdstanpy-0.9.68-py3-none-any.whl (49 kB)\n",
            "\u001b[K     |████████████████████████████████| 49 kB 4.7 MB/s \n",
            "\u001b[?25hRequirement already satisfied: LunarCalendar>=0.0.9 in /usr/local/lib/python3.7/dist-packages (from prophet>=1.0.0->darts) (0.0.9)\n",
            "Requirement already satisfied: setuptools-git>=1.2 in /usr/local/lib/python3.7/dist-packages (from prophet>=1.0.0->darts) (1.2)\n",
            "Collecting ujson\n",
            "  Downloading ujson-4.3.0-cp37-cp37m-manylinux_2_17_x86_64.manylinux2014_x86_64.whl (216 kB)\n",
            "\u001b[K     |████████████████████████████████| 216 kB 50.6 MB/s \n",
            "\u001b[?25hRequirement already satisfied: ephem>=3.7.5.3 in /usr/local/lib/python3.7/dist-packages (from LunarCalendar>=0.0.9->prophet>=1.0.0->darts) (4.1)\n",
            "Requirement already satisfied: six>=1.5 in /usr/local/lib/python3.7/dist-packages (from python-dateutil->holidays>=0.11.1->darts) (1.15.0)\n",
            "Requirement already satisfied: idna<3,>=2.5 in /usr/local/lib/python3.7/dist-packages (from requests>=2.22.0->darts) (2.10)\n",
            "Requirement already satisfied: chardet<4,>=3.0.2 in /usr/local/lib/python3.7/dist-packages (from requests>=2.22.0->darts) (3.0.4)\n",
            "Requirement already satisfied: certifi>=2017.4.17 in /usr/local/lib/python3.7/dist-packages (from requests>=2.22.0->darts) (2021.10.8)\n",
            "Requirement already satisfied: threadpoolctl>=2.0.0 in /usr/local/lib/python3.7/dist-packages (from scikit-learn>=1.0.1->darts) (3.0.0)\n",
            "Requirement already satisfied: tomli>=1.0.0 in /usr/local/lib/python3.7/dist-packages (from setuptools-scm>=4->matplotlib>=3.3.0->darts) (1.2.2)\n",
            "Requirement already satisfied: patsy>=0.5.2 in /usr/local/lib/python3.7/dist-packages (from statsmodels>=0.13.0->darts) (0.5.2)\n",
            "Requirement already satisfied: protobuf>=3.6.0 in /usr/local/lib/python3.7/dist-packages (from tensorboard>=2.4.0->darts) (3.17.3)\n",
            "Requirement already satisfied: tensorboard-plugin-wit>=1.6.0 in /usr/local/lib/python3.7/dist-packages (from tensorboard>=2.4.0->darts) (1.8.0)\n",
            "Requirement already satisfied: wheel>=0.26 in /usr/local/lib/python3.7/dist-packages (from tensorboard>=2.4.0->darts) (0.37.0)\n",
            "Requirement already satisfied: tensorboard-data-server<0.7.0,>=0.6.0 in /usr/local/lib/python3.7/dist-packages (from tensorboard>=2.4.0->darts) (0.6.1)\n",
            "Requirement already satisfied: markdown>=2.6.8 in /usr/local/lib/python3.7/dist-packages (from tensorboard>=2.4.0->darts) (3.3.6)\n",
            "Requirement already satisfied: werkzeug>=0.11.15 in /usr/local/lib/python3.7/dist-packages (from tensorboard>=2.4.0->darts) (1.0.1)\n",
            "Requirement already satisfied: google-auth<3,>=1.6.3 in /usr/local/lib/python3.7/dist-packages (from tensorboard>=2.4.0->darts) (1.35.0)\n",
            "Requirement already satisfied: absl-py>=0.4 in /usr/local/lib/python3.7/dist-packages (from tensorboard>=2.4.0->darts) (0.12.0)\n",
            "Requirement already satisfied: google-auth-oauthlib<0.5,>=0.4.1 in /usr/local/lib/python3.7/dist-packages (from tensorboard>=2.4.0->darts) (0.4.6)\n",
            "Requirement already satisfied: grpcio>=1.24.3 in /usr/local/lib/python3.7/dist-packages (from tensorboard>=2.4.0->darts) (1.42.0)\n",
            "Requirement already satisfied: cachetools<5.0,>=2.0.0 in /usr/local/lib/python3.7/dist-packages (from google-auth<3,>=1.6.3->tensorboard>=2.4.0->darts) (4.2.4)\n",
            "Requirement already satisfied: pyasn1-modules>=0.2.1 in /usr/local/lib/python3.7/dist-packages (from google-auth<3,>=1.6.3->tensorboard>=2.4.0->darts) (0.2.8)\n",
            "Requirement already satisfied: rsa<5,>=3.1.4 in /usr/local/lib/python3.7/dist-packages (from google-auth<3,>=1.6.3->tensorboard>=2.4.0->darts) (4.7.2)\n",
            "Requirement already satisfied: requests-oauthlib>=0.7.0 in /usr/local/lib/python3.7/dist-packages (from google-auth-oauthlib<0.5,>=0.4.1->tensorboard>=2.4.0->darts) (1.3.0)\n",
            "Requirement already satisfied: importlib-metadata>=4.4 in /usr/local/lib/python3.7/dist-packages (from markdown>=2.6.8->tensorboard>=2.4.0->darts) (4.8.2)\n",
            "Requirement already satisfied: zipp>=0.5 in /usr/local/lib/python3.7/dist-packages (from importlib-metadata>=4.4->markdown>=2.6.8->tensorboard>=2.4.0->darts) (3.6.0)\n",
            "Requirement already satisfied: typing-extensions>=3.6.4 in /usr/local/lib/python3.7/dist-packages (from importlib-metadata>=4.4->markdown>=2.6.8->tensorboard>=2.4.0->darts) (3.10.0.2)\n",
            "Requirement already satisfied: pyasn1<0.5.0,>=0.4.6 in /usr/local/lib/python3.7/dist-packages (from pyasn1-modules>=0.2.1->google-auth<3,>=1.6.3->tensorboard>=2.4.0->darts) (0.4.8)\n",
            "Requirement already satisfied: oauthlib>=3.0.0 in /usr/local/lib/python3.7/dist-packages (from requests-oauthlib>=0.7.0->google-auth-oauthlib<0.5,>=0.4.1->tensorboard>=2.4.0->darts) (3.1.1)\n",
            "Building wheels for collected packages: filterpy, prophet\n",
            "  Building wheel for filterpy (setup.py) ... \u001b[?25l\u001b[?25hdone\n",
            "  Created wheel for filterpy: filename=filterpy-1.4.5-py3-none-any.whl size=110474 sha256=a0457221a843f0d2778967beef7013a3db7b0179b5e4486500feda86bc415e68\n",
            "  Stored in directory: /root/.cache/pip/wheels/ce/e0/ee/a2b3c5caab3418c1ccd8c4de573d4cbe13315d7e8b0a55fbc2\n",
            "  Building wheel for prophet (setup.py) ... \u001b[?25l\u001b[?25hdone\n",
            "  Created wheel for prophet: filename=prophet-1.0.1-py3-none-any.whl size=6640619 sha256=52b186e6ccd89d04a9be3372c344a2c03c55132a5dffdc4a82d37dc1d06a5b69\n",
            "  Stored in directory: /root/.cache/pip/wheels/4e/a0/1a/02c9ec9e3e9de6bdbb3d769d11992a6926889d71567d6b9b67\n",
            "Successfully built filterpy prophet\n",
            "Installing collected packages: ujson, statsmodels, prompt-toolkit, matplotlib, holidays, cmdstanpy, prophet, pmdarima, ipython, filterpy, darts\n",
            "  Attempting uninstall: statsmodels\n",
            "    Found existing installation: statsmodels 0.10.2\n",
            "    Uninstalling statsmodels-0.10.2:\n",
            "      Successfully uninstalled statsmodels-0.10.2\n",
            "  Attempting uninstall: prompt-toolkit\n",
            "    Found existing installation: prompt-toolkit 1.0.18\n",
            "    Uninstalling prompt-toolkit-1.0.18:\n",
            "      Successfully uninstalled prompt-toolkit-1.0.18\n",
            "  Attempting uninstall: matplotlib\n",
            "    Found existing installation: matplotlib 3.2.2\n",
            "    Uninstalling matplotlib-3.2.2:\n",
            "      Successfully uninstalled matplotlib-3.2.2\n",
            "  Attempting uninstall: holidays\n",
            "    Found existing installation: holidays 0.10.5.2\n",
            "    Uninstalling holidays-0.10.5.2:\n",
            "      Successfully uninstalled holidays-0.10.5.2\n",
            "  Attempting uninstall: cmdstanpy\n",
            "    Found existing installation: cmdstanpy 0.9.5\n",
            "    Uninstalling cmdstanpy-0.9.5:\n",
            "      Successfully uninstalled cmdstanpy-0.9.5\n",
            "  Attempting uninstall: ipython\n",
            "    Found existing installation: ipython 5.5.0\n",
            "    Uninstalling ipython-5.5.0:\n",
            "      Successfully uninstalled ipython-5.5.0\n",
            "\u001b[31mERROR: pip's dependency resolver does not currently take into account all the packages that are installed. This behaviour is the source of the following dependency conflicts.\n",
            "jupyter-console 5.2.0 requires prompt-toolkit<2.0.0,>=1.0.0, but you have prompt-toolkit 3.0.23 which is incompatible.\n",
            "google-colab 1.0.0 requires ipython~=5.5.0, but you have ipython 7.30.0 which is incompatible.\n",
            "fbprophet 0.7.1 requires cmdstanpy==0.9.5, but you have cmdstanpy 0.9.68 which is incompatible.\n",
            "albumentations 0.1.12 requires imgaug<0.2.7,>=0.2.5, but you have imgaug 0.2.9 which is incompatible.\u001b[0m\n",
            "Successfully installed cmdstanpy-0.9.68 darts-0.14.0 filterpy-1.4.5 holidays-0.11.3.1 ipython-7.30.0 matplotlib-3.5.0 pmdarima-1.8.4 prompt-toolkit-3.0.23 prophet-1.0.1 statsmodels-0.13.1 ujson-4.3.0\n"
          ]
        },
        {
          "output_type": "display_data",
          "data": {
            "application/vnd.colab-display-data+json": {
              "pip_warning": {
                "packages": [
                  "IPython",
                  "matplotlib",
                  "mpl_toolkits",
                  "prompt_toolkit"
                ]
              }
            }
          },
          "metadata": {}
        }
      ]
    },
    {
      "cell_type": "code",
      "metadata": {
        "id": "v9BejlLk8WCv"
      },
      "source": [
        "import matplotlib.pyplot as plt\n",
        "import pandas as pd\n",
        "series_ai = pd.read_csv('ai_count_no_ouliers.csv')"
      ],
      "execution_count": 4,
      "outputs": []
    },
    {
      "cell_type": "code",
      "metadata": {
        "id": "fCb9OHcS8WFW"
      },
      "source": [
        "from darts.dataprocessing.transformers import Scaler\n",
        "from darts import TimeSeries\n",
        "scaler_ai_retweet = Scaler()\n",
        "\n",
        "series_ai_count = scaler_ai_retweet.fit_transform(\n",
        "        TimeSeries.from_dataframe(\n",
        "            series_ai, 'date', ['count'])\n",
        "    ) \n",
        "# series_ai_count.plot(label ='count')\n",
        "# plt.xlabel('date')\n",
        "# plt.ylabel('tweet_count')\n",
        "# fig1 = plt.gcf()\n",
        "# plt.legend();\n",
        "# plt.show()\n",
        "#fig1.savefig('tweet_count.png')\n",
        "\n"
      ],
      "execution_count": 7,
      "outputs": []
    },
    {
      "cell_type": "code",
      "metadata": {
        "id": "1Jiovdgm8WIE"
      },
      "source": [
        "train_tweet_count, val_tweet_count = series_ai_count.split_after(pd.Timestamp('20200930'))\n",
        "\n",
        "import torch"
      ],
      "execution_count": 8,
      "outputs": []
    },
    {
      "cell_type": "code",
      "metadata": {
        "id": "0QQBVyON8WMQ"
      },
      "source": [
        "def extreme_true(pred,true):\n",
        "  #define the hi_th anf lw_th\n",
        "  hi_th = 0.65\n",
        "  lw_th = 0.2\n",
        "  if (pred>hi_th or pred <lw_th)  and (true <= hi_th and true >=lw_th):\n",
        "    return True\n",
        "  elif (true>hi_th or true <lw_th)  and (pred <= hi_th or pred >=lw_th):\n",
        "    return True\n",
        "  else:\n",
        "    return False  \n",
        "    \n",
        "\n"
      ],
      "execution_count": 9,
      "outputs": []
    },
    {
      "cell_type": "code",
      "metadata": {
        "colab": {
          "base_uri": "https://localhost:8080/",
          "height": 139
        },
        "id": "p5AQKpB08WPz",
        "outputId": "7d0c8422-079a-4c0c-96e8-045a065a5c51"
      },
      "source": [
        "def ExtremeLoss(preds, true):\n",
        "    extreme_tensor(preds,true)\n",
        "\"\"\"     \n",
        "   # define the upper and the lower thresholds\n",
        "  loss = list(range(0,preds.shape[0]))\n",
        "   # 1st loop for the batch\n",
        "  batch_counter =0  \n",
        "  for pred in preds:\n",
        "    \n",
        "     #pred is a tensor of 7 dimsneions \n",
        "     #2nd loop for dims in the tensor\n",
        "     dim_counter = -1 \n",
        "     for dim in pred :\n",
        "       dim_counter +=1\n",
        "       if extreme_true(dim,true[batch_counter][dim_counter] ) == True:\n",
        "        # extreme loss\n",
        "          loss[batch_counter] += (dim - true[batch_counter][dim_counter])*4\n",
        "       else:\n",
        "        #simple loss\n",
        "          loss[batch_counter] += (dim - true[batch_counter][dim_counter]) \n",
        "\n",
        "     batch_counter +=1\n",
        "  loss_tensor = torch.tensor(loss, requires_grad= True)\n",
        "  #print(loss_tensor) \n",
        "  return torch.sum(loss_tensor)\n",
        "\"\"\""
      ],
      "execution_count": 10,
      "outputs": [
        {
          "output_type": "execute_result",
          "data": {
            "application/vnd.google.colaboratory.intrinsic+json": {
              "type": "string"
            },
            "text/plain": [
              "'     \\n   # define the upper and the lower thresholds\\n  loss = list(range(0,preds.shape[0]))\\n   # 1st loop for the batch\\n  batch_counter =0  \\n  for pred in preds:\\n    \\n     #pred is a tensor of 7 dimsneions \\n     #2nd loop for dims in the tensor\\n     dim_counter = -1 \\n     for dim in pred :\\n       dim_counter +=1\\n       if extreme_true(dim,true[batch_counter][dim_counter] ) == True:\\n        # extreme loss\\n          loss[batch_counter] += (dim - true[batch_counter][dim_counter])*4\\n       else:\\n        #simple loss\\n          loss[batch_counter] += (dim - true[batch_counter][dim_counter]) \\n\\n     batch_counter +=1\\n  loss_tensor = torch.tensor(loss, requires_grad= True)\\n  #print(loss_tensor) \\n  return torch.sum(loss_tensor)\\n'"
            ]
          },
          "metadata": {},
          "execution_count": 10
        }
      ]
    },
    {
      "cell_type": "code",
      "metadata": {
        "id": "RUOXOOJWVizz"
      },
      "source": [
        "a = [0.0]"
      ],
      "execution_count": 173,
      "outputs": []
    },
    {
      "cell_type": "code",
      "metadata": {
        "id": "WG9Z6tTaBUAU"
      },
      "source": [
        "def try_loss(pred, true):\n",
        "  global a\n",
        "  import numpy as np\n",
        "  #print(\"print\",len(pred_tensor), len(pred_tensor[0]), len(true_tensor))\n",
        "  h = 0.8\n",
        "  l = 0.2\n",
        "\n",
        "  loss = torch.tensor(0.0, requires_grad=True)\n",
        "  \n",
        "  \n",
        "  \n",
        "  #torch.cat((A,B))\n",
        "  l = 0\n",
        "  for i in range(0,len(pred)):\n",
        "    for j in range(0,len(pred[0])):\n",
        "      if((true[i][j]>h or true[i][j]<l) and (pred[i][j] <= h and pred[i][j] >= l)):\n",
        "        #temp = torch.tensor(0.0, requires_grad=True)\n",
        "        temp = torch.abs(torch.tensor(true[i][j]-pred[i][j]).clone().detach().requires_grad_(True))\n",
        "        #loss = torch.unsqueeze(loss, 0)\n",
        "        #temp = torch.unsqueeze(temp, 0)\n",
        "        #print('ll',loss,temp)\n",
        "        np_arr = temp.cpu().detach().numpy().tolist()[0]\n",
        "        #loss = torch.stack((temp,loss))\n",
        "        a.append(np_arr)\n",
        "        #print(a,len(a))\n",
        "        #print(sum(a))\n",
        "        #loss =  torch.add(loss,temp)\n",
        "        \n",
        "        #print('l',loss)\n",
        "  #loss = torch.subtract(pred_tensor,true_tensor)\n",
        "  #l = torch.mean(loss)\n",
        "  #l = l.clone().detach().requires_grad_(True)\n",
        "  #print(l)\n",
        "  #print(\"sum\",sum(a))\n",
        "  loss = torch.tensor(sum(a), requires_grad=True)\n",
        "  return torch.mean(loss)"
      ],
      "execution_count": 176,
      "outputs": []
    },
    {
      "cell_type": "code",
      "metadata": {
        "id": "5vhYcyNE8WSa"
      },
      "source": [
        "def extreme_tensor(pred_tensor,true_tensor):\n",
        "    hi_th = 0.65\n",
        "    lw_th = 0.2\n",
        "#    high_tensor = torch.full((pred_tensor.size[0],pred_tensor.size[1],pred_tensor.size[2]), hi_th)\n",
        "#    lw_tensor = torch.full((pred_tensor.size[0],pred_tensor.size[1],pred_tensor.size[2]), lw_th)\n",
        "\n",
        "    high_tensor = torch.full((pred_tensor.shape[0],pred_tensor.shape[1],pred_tensor.shape[2]), hi_th)\n",
        "    lw_tensor = torch.full((pred_tensor.shape[0],pred_tensor.shape[1],pred_tensor.shape[2]), lw_th)\n",
        "#compare the pred with the high and low_tensor\n",
        "    pred_comp_hi = torch.gt(pred_tensor,high_tensor)\n",
        "    pred_comp_lw = torch.le(pred_tensor,lw_tensor)\n",
        "\n",
        "# an or to know if it is extreme or not  \n",
        "    extreme_pred = torch.logical_or(pred_comp_hi,pred_comp_lw)\n",
        "#compare the true with the high and low\n",
        "    true_comp_hi = torch.le(true_tensor,high_tensor)\n",
        "    true_comp_lw = torch.gt(true_tensor,lw_tensor)\n",
        "\n",
        "# an and to know if it is extreme or not\n",
        "    extreme_true = torch.logical_and(true_comp_hi,true_comp_lw)\n",
        "#get the and of the 2 above\n",
        "\n",
        "    extreme_final = torch.logical_and(extreme_pred,extreme_true)\n",
        "\n",
        "  #get the diff from the pred and true\n",
        "    true_comp_hi_2 = torch.gt(true_tensor,high_tensor)\n",
        "    true_comp_lw_2 = torch.le(true_tensor,lw_tensor)\n",
        "    \n",
        "    true_or = torch.logical_or(true_comp_hi_2,true_comp_lw_2)\n",
        "    \n",
        "    pred_comp_hi_2 = torch.le(pred_tensor,high_tensor)\n",
        "    pred_comp_lw_2 = torch.gt(pred_tensor,lw_tensor)\n",
        "    \n",
        "    pred_or = torch.logical_or(pred_comp_hi_2,pred_comp_lw_2)\n",
        "    # an and to know if it is extreme or not\n",
        "    extreme_final_2 = torch.logical_and(true_or,pred_or)\n",
        "    \n",
        "  # change the values of the true and false to the hyperparamters of the loss\n",
        "\n",
        "    boolean_tensor = torch.logical_or(extreme_final,extreme_final_2)\n",
        "    int_tensor = boolean_tensor.long()\n",
        "    \n",
        "  # change the boolean tensor with values\n",
        "    x = torch.where(int_tensor==1,int_tensor, 5)\n",
        "    x = x.double()\n",
        "    final_tensor = torch.where(x==0, x ,0.2)\n",
        "\n",
        "# element-wise subtraction\n",
        "    loss_tensor = torch.subtract(pred_tensor,true_tensor)\n",
        "\n",
        "#element-wise mul of loss with \n",
        "    product = torch.mul(loss_tensor, final_tensor)\n",
        "    product = torch.tensor(product, requires_grad=True)\n",
        "    #print(product.shape)\n",
        "    #print((-torch.sum(product)))\n",
        "    \n",
        "    return(torch.sum(product))"
      ],
      "execution_count": 19,
      "outputs": []
    },
    {
      "cell_type": "code",
      "metadata": {
        "id": "BA318dAl8WVB"
      },
      "source": [
        "from darts import TimeSeries\n",
        "from darts.utils.timeseries_generation import gaussian_timeseries, linear_timeseries, sine_timeseries\n",
        "from darts.models import RNNModel, TCNModel, TransformerModel, NBEATSModel, BlockRNNModel\n",
        "from darts.metrics import mape, smape"
      ],
      "execution_count": 60,
      "outputs": []
    },
    {
      "cell_type": "code",
      "metadata": {
        "colab": {
          "base_uri": "https://localhost:8080/"
        },
        "id": "ZHZl5xhw8WXx",
        "outputId": "0cf35607-bb86-4521-b568-964c01870ad5"
      },
      "source": [
        "model_ai = NBEATSModel(input_chunk_length=60, output_chunk_length=7, n_epochs=30, random_state=0,\n",
        "                                          loss_fn = try_loss )\n",
        "model_ai.fit([train_tweet_count],val_series = [val_tweet_count], verbose=True)\n",
        "pred_ai = model_ai.predict(n=88, series = train_tweet_count )\n",
        "#pred_follower = model_ai_multiple.predict(n=36, series = train_follower )\n",
        "error_tweet = mape(val_tweet_count[:88],pred_ai)\n",
        "#error_follower = mape(val_follower[:36],pred_follower)\n",
        "print(\"this is the error for the tweet_count:\",error_tweet )"
      ],
      "execution_count": 177,
      "outputs": [
        {
          "output_type": "stream",
          "name": "stderr",
          "text": [
            "[2021-11-30 15:52:51,297] INFO | darts.models.forecasting.torch_forecasting_model | Train dataset contains 208 samples.\n",
            "[2021-11-30 15:52:51,297] INFO | darts.models.forecasting.torch_forecasting_model | Train dataset contains 208 samples.\n",
            "[2021-11-30 15:52:51,411] INFO | darts.models.forecasting.torch_forecasting_model | Time series values are 64-bits; casting model to float64.\n",
            "[2021-11-30 15:52:51,411] INFO | darts.models.forecasting.torch_forecasting_model | Time series values are 64-bits; casting model to float64.\n",
            "  0%|          | 0/30 [00:00<?, ?it/s]/usr/local/lib/python3.7/dist-packages/ipykernel_launcher.py:18: UserWarning:\n",
            "\n",
            "To copy construct from a tensor, it is recommended to use sourceTensor.clone().detach() or sourceTensor.clone().detach().requires_grad_(True), rather than torch.tensor(sourceTensor).\n",
            "\n",
            "  3%|▎         | 1/30 [00:00<00:10,  2.89it/s]"
          ]
        },
        {
          "output_type": "stream",
          "name": "stdout",
          "text": [
            "Training loss: 46.1245, validation loss: 46.5785, best val loss: 46.5785\r"
          ]
        },
        {
          "output_type": "stream",
          "name": "stderr",
          "text": [
            " 37%|███▋      | 11/30 [00:03<00:06,  3.15it/s]"
          ]
        },
        {
          "output_type": "stream",
          "name": "stdout",
          "text": [
            "Training loss: 61.0847, validation loss: 61.6038, best val loss: 46.5785\r"
          ]
        },
        {
          "output_type": "stream",
          "name": "stderr",
          "text": [
            " 70%|███████   | 21/30 [00:06<00:02,  3.08it/s]"
          ]
        },
        {
          "output_type": "stream",
          "name": "stdout",
          "text": [
            "Training loss: 76.0096, validation loss: 76.6292, best val loss: 46.5785\r"
          ]
        },
        {
          "output_type": "stream",
          "name": "stderr",
          "text": [
            "100%|██████████| 30/30 [00:09<00:00,  3.17it/s]\n"
          ]
        },
        {
          "output_type": "stream",
          "name": "stdout",
          "text": [
            "this is the error for the tweet_count: 629.2356661820182\n"
          ]
        }
      ]
    },
    {
      "cell_type": "code",
      "metadata": {
        "id": "k2srtnyr8WaE"
      },
      "source": [
        ""
      ],
      "execution_count": null,
      "outputs": []
    },
    {
      "cell_type": "code",
      "metadata": {
        "id": "K6WzMDca8Wc7"
      },
      "source": [
        ""
      ],
      "execution_count": null,
      "outputs": []
    },
    {
      "cell_type": "code",
      "metadata": {
        "id": "rWeyzzmR8Wff"
      },
      "source": [
        ""
      ],
      "execution_count": null,
      "outputs": []
    },
    {
      "cell_type": "code",
      "metadata": {
        "id": "0Jg9_f1x8WiI"
      },
      "source": [
        ""
      ],
      "execution_count": null,
      "outputs": []
    },
    {
      "cell_type": "code",
      "metadata": {
        "id": "pt6TBeHT8WlD"
      },
      "source": [
        ""
      ],
      "execution_count": null,
      "outputs": []
    },
    {
      "cell_type": "code",
      "metadata": {
        "id": "T8KpZzgx8Wnq"
      },
      "source": [
        ""
      ],
      "execution_count": null,
      "outputs": []
    }
  ]
}